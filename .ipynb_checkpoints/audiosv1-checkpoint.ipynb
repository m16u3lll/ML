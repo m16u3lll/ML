{
 "cells": [
  {
   "cell_type": "code",
   "execution_count": 1,
   "metadata": {},
   "outputs": [],
   "source": [
    "#ojo espetrograma y escalograma cwt uso la misma escalapara cada audio"
   ]
  },
  {
   "attachments": {},
   "cell_type": "markdown",
   "metadata": {},
   "source": [
    "# trabajo completo de analisis de audios"
   ]
  },
  {
   "cell_type": "code",
   "execution_count": 4,
   "metadata": {},
   "outputs": [
    {
     "ename": "ImportError",
     "evalue": "cannot import name 'ipython' from 'jupyter' (c:\\Users\\migue\\AppData\\Local\\Programs\\Python\\Python310\\lib\\site-packages\\jupyter.py)",
     "output_type": "error",
     "traceback": [
      "\u001b[1;31m---------------------------------------------------------------------------\u001b[0m",
      "\u001b[1;31mImportError\u001b[0m                               Traceback (most recent call last)",
      "\u001b[1;32mc:\\Users\\migue\\OneDrive\\Escritorio\\Semestre 7\\Metodos de machine learning\\ML\\audiosv1.ipynb Cell 3\u001b[0m in \u001b[0;36m7\n\u001b[0;32m      <a href='vscode-notebook-cell:/c%3A/Users/migue/OneDrive/Escritorio/Semestre%207/Metodos%20de%20machine%20learning/ML/audiosv1.ipynb#W2sZmlsZQ%3D%3D?line=4'>5</a>\u001b[0m \u001b[39mimport\u001b[39;00m \u001b[39mpandas\u001b[39;00m \u001b[39mas\u001b[39;00m \u001b[39mpd\u001b[39;00m\n\u001b[0;32m      <a href='vscode-notebook-cell:/c%3A/Users/migue/OneDrive/Escritorio/Semestre%207/Metodos%20de%20machine%20learning/ML/audiosv1.ipynb#W2sZmlsZQ%3D%3D?line=5'>6</a>\u001b[0m \u001b[39mfrom\u001b[39;00m \u001b[39msklearn\u001b[39;00m\u001b[39m.\u001b[39;00m\u001b[39mdecomposition\u001b[39;00m \u001b[39mimport\u001b[39;00m PCA\n\u001b[1;32m----> <a href='vscode-notebook-cell:/c%3A/Users/migue/OneDrive/Escritorio/Semestre%207/Metodos%20de%20machine%20learning/ML/audiosv1.ipynb#W2sZmlsZQ%3D%3D?line=6'>7</a>\u001b[0m \u001b[39mfrom\u001b[39;00m \u001b[39mjupyter\u001b[39;00m \u001b[39mimport\u001b[39;00m ipython \u001b[39mas\u001b[39;00m ipd\n\u001b[0;32m      <a href='vscode-notebook-cell:/c%3A/Users/migue/OneDrive/Escritorio/Semestre%207/Metodos%20de%20machine%20learning/ML/audiosv1.ipynb#W2sZmlsZQ%3D%3D?line=7'>8</a>\u001b[0m \u001b[39mimport\u001b[39;00m \u001b[39mscipy\u001b[39;00m\u001b[39m.\u001b[39;00m\u001b[39mfftpack\u001b[39;00m \u001b[39mas\u001b[39;00m \u001b[39mfourier\u001b[39;00m\n",
      "\u001b[1;31mImportError\u001b[0m: cannot import name 'ipython' from 'jupyter' (c:\\Users\\migue\\AppData\\Local\\Programs\\Python\\Python310\\lib\\site-packages\\jupyter.py)"
     ]
    }
   ],
   "source": [
    "import numpy as np\n",
    "import matplotlib.pyplot as plt\n",
    "import scipy.io.wavfile as waves\n",
    "import glob\n",
    "import pandas as pd\n",
    "from sklearn.decomposition import PCA\n",
    "from jupyter import ipython as ipd\n",
    "import scipy.fftpack as fourier"
   ]
  },
  {
   "attachments": {},
   "cell_type": "markdown",
   "metadata": {},
   "source": [
    "### formación de la matriz\n",
    "\n"
   ]
  },
  {
   "cell_type": "code",
   "execution_count": null,
   "metadata": {},
   "outputs": [
    {
     "name": "stdout",
     "output_type": "stream",
     "text": [
      "lista de audios cargados:['1.wav', '10.wav', '11.wav', '12.wav', '13.wav', '15.wav', '16.wav', '17.wav', '18.wav', '19.wav', '2.wav', '20.wav', '21.wav', '22.wav', '23.wav', '24.wav', '25.wav', '26.wav', '27.wav', '28.wav', '29.wav', '3.wav', '30.wav', '31.wav', '32.wav', '33.wav', '34.wav', '4.wav', '5.wav', '6.wav', '7.wav', '8.wav']\n",
      "1.wav\n",
      "dimension de audio original 222720\n",
      "dimension de audio cortado 129000\n",
      "-----------------\n",
      "10.wav\n",
      "dimension de audio original 222720\n",
      "dimension de audio cortado 129000\n",
      "-----------------\n",
      "11.wav\n",
      "dimension de audio original 207360\n",
      "dimension de audio cortado 129000\n",
      "-----------------\n",
      "12.wav\n",
      "dimension de audio original 222720\n",
      "dimension de audio cortado 129000\n",
      "-----------------\n",
      "13.wav\n",
      "dimension de audio original 230400\n",
      "dimension de audio cortado 129000\n",
      "-----------------\n",
      "15.wav\n",
      "dimension de audio original 192000\n",
      "dimension de audio cortado 129000\n",
      "-----------------\n",
      "16.wav\n",
      "dimension de audio original 207360\n",
      "dimension de audio cortado 129000\n",
      "-----------------\n",
      "17.wav\n",
      "dimension de audio original 176640\n",
      "dimension de audio cortado 129000\n",
      "-----------------\n",
      "18.wav\n",
      "dimension de audio original 215040\n",
      "dimension de audio cortado 129000\n",
      "-----------------\n",
      "19.wav\n",
      "dimension de audio original 215040\n",
      "dimension de audio cortado 129000\n",
      "-----------------\n",
      "2.wav\n",
      "dimension de audio original 215040\n",
      "dimension de audio cortado 129000\n",
      "-----------------\n",
      "20.wav\n",
      "dimension de audio original 215040\n",
      "dimension de audio cortado 129000\n",
      "-----------------\n",
      "21.wav\n",
      "dimension de audio original 222720\n",
      "dimension de audio cortado 129000\n",
      "-----------------\n",
      "22.wav\n",
      "dimension de audio original 215040\n",
      "dimension de audio cortado 129000\n",
      "-----------------\n",
      "23.wav\n",
      "dimension de audio original 215040\n",
      "dimension de audio cortado 129000\n",
      "-----------------\n",
      "24.wav\n",
      "dimension de audio original 215040\n",
      "dimension de audio cortado 129000\n",
      "-----------------\n",
      "25.wav\n",
      "dimension de audio original 215040\n",
      "dimension de audio cortado 129000\n",
      "-----------------\n",
      "26.wav\n",
      "dimension de audio original 215040\n",
      "dimension de audio cortado 129000\n",
      "-----------------\n",
      "27.wav\n",
      "dimension de audio original 253440\n",
      "dimension de audio cortado 129000\n",
      "-----------------\n",
      "28.wav\n",
      "dimension de audio original 222720\n",
      "dimension de audio cortado 129000\n",
      "-----------------\n",
      "29.wav\n",
      "dimension de audio original 222720\n",
      "dimension de audio cortado 129000\n",
      "-----------------\n",
      "3.wav\n",
      "dimension de audio original 215040\n",
      "dimension de audio cortado 129000\n",
      "-----------------\n",
      "30.wav\n",
      "dimension de audio original 215040\n",
      "dimension de audio cortado 129000\n",
      "-----------------\n",
      "31.wav\n",
      "dimension de audio original 222720\n",
      "dimension de audio cortado 129000\n",
      "-----------------\n",
      "32.wav\n",
      "dimension de audio original 215040\n",
      "dimension de audio cortado 129000\n",
      "-----------------\n",
      "33.wav\n",
      "dimension de audio original 215040\n",
      "dimension de audio cortado 129000\n",
      "-----------------\n",
      "34.wav\n",
      "dimension de audio original 215040\n",
      "dimension de audio cortado 129000\n",
      "-----------------\n",
      "4.wav\n",
      "dimension de audio original 215040\n",
      "dimension de audio cortado 129000\n",
      "-----------------\n",
      "5.wav\n",
      "dimension de audio original 215040\n",
      "dimension de audio cortado 129000\n",
      "-----------------\n",
      "6.wav\n",
      "dimension de audio original 215040\n",
      "dimension de audio cortado 129000\n",
      "-----------------\n",
      "7.wav\n",
      "dimension de audio original 215040\n",
      "dimension de audio cortado 129000\n",
      "-----------------\n",
      "8.wav\n",
      "dimension de audio original 199680\n",
      "dimension de audio cortado 129000\n",
      "-----------------\n",
      "--------------------------------------------------------------------------\n",
      "[[ 356  406  476 ...  221  200  185]\n",
      " [ -25  -25   -5 ...  -75  -60  -55]\n",
      " [-722 -626 -541 ... -917 -932 -902]\n",
      " ...\n",
      " [ 391  421  486 ... -301 -316 -271]\n",
      " [ 386  321  311 ...  616  506  511]\n",
      " [ -10   -5  -40 ... -140 -135  -95]]\n"
     ]
    }
   ],
   "source": [
    "wav_files = glob.glob('C:\\Users\\migue\\OneDrive\\Escritorio\\Semestre 7\\Metodos de machine learning\\semana 2 a 4 audios y espectros\\Audios Machine Learning\\*.wav') #importando cada nombre \n",
    "wav_files.remove('9.wav')\n",
    "wav_files.remove('14.wav')# se removieron los audios 14 y 9\n",
    "print(f'lista de audios cargados:{wav_files}')\n",
    "\n",
    "mat=[]#matriz con cada una de las filas un audio\n",
    "\n",
    "\n",
    "for j in range(0,len(wav_files)):\n",
    "    print(wav_files[j])\n",
    "    srate,data=waves.read(wav_files[j]) # importamos el audio y formamos un vector de este, usando el canal 1 del audio en estéreo se recortara.\n",
    "    length = data.shape[0] / srate\n",
    "    time = np.linspace(0., length, data.shape[0])\n",
    "    #print(f'dimension de audio original {data.shape[0]}')\n",
    "\n",
    "    data1=data[:,1][43000:172000] # recortamos el vector de audio obtenido debido a que al inicio y al final de este el sonido es ruido o silencio.\n",
    "    length1 =len(data1)/ srate    # el audio se recorta 1/4 tanto al inicio como al final \n",
    "    time1 = np.linspace((43000)/srate, length1, data1.shape[0])\n",
    "    #print(f'dimension de audio cortado {data1.shape[0]}')\n",
    "\n",
    "    print('Pre-proceso realizado')\n",
    "\n",
    "    mat.append(data1)\n",
    "    '''# cuadro comentado de las graficas de cada uno de los audios para poder comparar el original y el recortado\n",
    "    plt.plot(time, data[:, 1], label=\"orginal\")\n",
    "    plt.plot(time1+0.578, data1,  label=\"cortado\")\n",
    "\n",
    "    plt.legend()\n",
    "    plt.xlabel(\"Time [s]\")\n",
    "    plt.ylabel(\"Amplitude\")\n",
    "    plt.show()\n",
    "    '''\n",
    "\n",
    "\n",
    "print('--------------------------------------------------------------------------')\n",
    "matrix=np.stack( mat, axis=0 ) #formación de la matriz cuyas filas son los archivos de audio\n",
    "\n",
    "#for k in range(0,len(mat)): #verificar dimensiones de los vectores\n",
    "    #print(len(mat[k]))\n",
    "\n",
    "print(matrix)"
   ]
  },
  {
   "attachments": {},
   "cell_type": "markdown",
   "metadata": {},
   "source": [
    "### Analisis de valores singulares"
   ]
  },
  {
   "cell_type": "code",
   "execution_count": null,
   "metadata": {},
   "outputs": [],
   "source": [
    "U,S,VT=np.linalg.svd(matrix, full_matrices=False)\n",
    "fig = plt.figure(figsize=(17,6))\n",
    "ax1=fig.add_subplot(121)\n",
    "ax1.set_title('logaritmo de los valores singulares')\n",
    "ax1.semilogy(S,'-o',color='k')\n",
    "ax2 = fig.add_subplot(122)\n",
    "ax2.set_title('porcentaje de información  por números de valores singulares')\n",
    "ax2.plot(np.cumsum(S)/np.sum(S),'-o',color='b')"
   ]
  },
  {
   "attachments": {},
   "cell_type": "markdown",
   "metadata": {},
   "source": [
    "### Descomposicion en componentes principales"
   ]
  },
  {
   "cell_type": "code",
   "execution_count": null,
   "metadata": {},
   "outputs": [],
   "source": [
    "probando"
   ]
  },
  {
   "attachments": {},
   "cell_type": "markdown",
   "metadata": {},
   "source": [
    "usar funcion de normalizacionç\n",
    "\n",
    "crear etiquetas"
   ]
  }
 ],
 "metadata": {
  "kernelspec": {
   "display_name": "Python 3",
   "language": "python",
   "name": "python3"
  },
  "language_info": {
   "codemirror_mode": {
    "name": "ipython",
    "version": 3
   },
   "file_extension": ".py",
   "mimetype": "text/x-python",
   "name": "python",
   "nbconvert_exporter": "python",
   "pygments_lexer": "ipython3",
   "version": "3.10.7"
  },
  "orig_nbformat": 4
 },
 "nbformat": 4,
 "nbformat_minor": 2
}
